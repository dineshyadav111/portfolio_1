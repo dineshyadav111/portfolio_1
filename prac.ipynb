{
 "cells": [
  {
   "cell_type": "code",
   "execution_count": 1,
   "metadata": {},
   "outputs": [
    {
     "name": "stdout",
     "output_type": "stream",
     "text": [
      "URL is safe: http://example.com\n",
      "Suspicious URL detected: http://login-bank.com\n",
      "Suspicious URL detected: http://192.168.1.1\n",
      "Malicious URL detected: http://phishing.com\n"
     ]
    }
   ],
   "source": [
    "import re\n",
    "\n",
    "# List of known malicious URLs (for demonstration purposes)\n",
    "known_malicious_urls = [\n",
    "    \"http://malicious.com\",\n",
    "    \"http://phishing.com\",\n",
    "    \"http://dangerous-site.com\"\n",
    "]\n",
    "\n",
    "# Function to check if a URL is known to be malicious\n",
    "def is_known_malicious(url):\n",
    "    return url in known_malicious_urls\n",
    "\n",
    "# Function to perform basic heuristics to identify suspicious URLs\n",
    "def is_suspicious(url):\n",
    "    # Basic heuristic: check for certain keywords\n",
    "    suspicious_keywords = [\"login\", \"bank\", \"update\", \"secure\"]\n",
    "    for keyword in suspicious_keywords:\n",
    "        if keyword in url.lower():\n",
    "            return True\n",
    "\n",
    "    # Check for presence of IP address in URL\n",
    "    ip_pattern = re.compile(r'\\b\\d{1,3}\\.\\d{1,3}\\.\\d{1,3}\\.\\d{1,3}\\b')\n",
    "    if ip_pattern.search(url):\n",
    "        return True\n",
    "\n",
    "    return False\n",
    "\n",
    "# Main function to scan a list of URLs\n",
    "def scan_urls(urls):\n",
    "    for url in urls:\n",
    "        if is_known_malicious(url):\n",
    "            print(f\"Malicious URL detected: {url}\")\n",
    "        elif is_suspicious(url):\n",
    "            print(f\"Suspicious URL detected: {url}\")\n",
    "        else:\n",
    "            print(f\"URL is safe: {url}\")\n",
    "\n",
    "# Example usage\n",
    "urls_to_scan = [\n",
    "    \"http://example.com\",\n",
    "    \"http://login-bank.com\",\n",
    "    \"http://192.168.1.1\",\n",
    "    \"http://phishing.com\"\n",
    "]\n",
    "\n",
    "scan_urls(urls_to_scan)"
   ]
  },
  {
   "cell_type": "code",
   "execution_count": null,
   "metadata": {},
   "outputs": [],
   "source": []
  }
 ],
 "metadata": {
  "kernelspec": {
   "display_name": "Python 3",
   "language": "python",
   "name": "python3"
  },
  "language_info": {
   "codemirror_mode": {
    "name": "ipython",
    "version": 3
   },
   "file_extension": ".py",
   "mimetype": "text/x-python",
   "name": "python",
   "nbconvert_exporter": "python",
   "pygments_lexer": "ipython3",
   "version": "3.11.5"
  }
 },
 "nbformat": 4,
 "nbformat_minor": 2
}
